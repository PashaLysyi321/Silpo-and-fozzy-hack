{
 "cells": [
  {
   "cell_type": "code",
   "execution_count": 21,
   "metadata": {
    "id": "KDW47j9JDjFx"
   },
   "outputs": [],
   "source": [
    "import numpy as np\n",
    "import pandas as pd\n",
    "import re\n",
    "import io\n",
    "from urllib.request import urlopen\n",
    "from datetime import datetime\n",
    "import requests\n",
    "from bs4 import BeautifulSoup"
   ]
  },
  {
   "cell_type": "code",
   "execution_count": 142,
   "metadata": {
    "id": "Vt_alQJrDveq"
   },
   "outputs": [],
   "source": [
    "# qr_id = 4820051240233\n",
    "qr_id = 4820001448603\n",
    "\n",
    "qr_url = f'https://listex.info/search/?q={qr_id}&type=goods'\n",
    "\n",
    "qr_html_text = requests.get(qr_url).text\n",
    "qr_soup = BeautifulSoup(qr_html_text, 'lxml')"
   ]
  },
  {
   "cell_type": "code",
   "execution_count": 143,
   "metadata": {
    "id": "3E__EYo3cJfz"
   },
   "outputs": [],
   "source": [
    "for link in qr_soup.find_all('a', class_='link-gray'):\n",
    "    href = re.match(r'.product.', link.get('href'))\n",
    "    if href:\n",
    "        prod_link = 'https://listex.info/' + link.get('href')"
   ]
  },
  {
   "cell_type": "code",
   "execution_count": 145,
   "metadata": {
    "id": "gBERhFpPxicZ"
   },
   "outputs": [],
   "source": [
    "prod_html_text = requests.get(prod_link).text\n",
    "prod_soup = BeautifulSoup(prod_html_text, 'lxml')"
   ]
  },
  {
   "cell_type": "code",
   "execution_count": 294,
   "metadata": {
    "id": "1kpsvLwybh-F"
   },
   "outputs": [],
   "source": [
    "list_text = prod_soup.find('p', class_=\"product-specifications-title\").get_text().split()[1:]\n",
    "prod_name = ' '.join(list_text)"
   ]
  },
  {
   "cell_type": "code",
   "execution_count": 301,
   "metadata": {
    "id": "lr3gVJh1XPzm"
   },
   "outputs": [],
   "source": [
    "log_params = str(prod_soup.find_all('table')[1])\n",
    "package = log_params.split('Материал транспортной тары')[1].replace('</th>','').replace('\\n','').replace('<tr>','').replace('<th>','').replace('<td>','').replace('</td>','').replace('</tr>','').split('Белки, г/100г')[0].replace(' ','').replace('\\t', '').replace('</table>','')"
   ]
  },
  {
   "cell_type": "code",
   "execution_count": 300,
   "metadata": {
    "id": "X2QVv5ieXP2K"
   },
   "outputs": [],
   "source": [
    "log_params2 = str(prod_soup.find_all('table')[2])\n",
    "mass = log_params2.split('Вес нетто, пустой box, кг')[1].replace('</th>','').replace('\\n','').replace('<tr>','').replace('<th>','').replace('<td>','').replace('</td>','').replace('</tr>','').split('Белки, г/100г')[0].replace(' ','').replace('\\t', '').replace('</table>','')"
   ]
  },
  {
   "cell_type": "code",
   "execution_count": 370,
   "metadata": {
    "id": "4fBbgVMgW0_-"
   },
   "outputs": [],
   "source": [
    "if re.findall(r'Питательные характеристики', str(prod_soup)):\n",
    "    nutritional = str(prod_soup.find_all('table')[4])\n",
    "\n",
    "    fats = nutritional.split('Жиры, г/100г')[1].replace('</th>','').replace('\\n','').replace('<tr>','').replace('<th>','').replace('<td>','').replace('</td>','').replace('</tr>','').split('Белки, г/100г')[0].replace(' ','').replace('\\t', '')\n",
    "    proteins = nutritional.split('Белки, г/100г')[1].replace('</th>','').replace('\\n','').replace('<tr>','').replace('<th>','').replace('<td>','').replace('</td>','').replace('</tr>','').split('Углеводы, г/100г')[0].replace(' ','').replace('\\t', '')\n",
    "    carbohydrates = nutritional.split('Углеводы, г/100г')[1].replace('</th>','').replace('\\n','').replace('<tr>','').replace('<th>','').replace('<td>','').replace('</td>','').replace('</tr>','').split('Калорийность, ккал/100г')[0].replace(' ','').replace('\\t', '')\n",
    "    calories = nutritional.split('Калорийность, ккал/100г')[1].replace('</th>','').replace('\\n','').replace('<tr>','').replace('<th>','').replace('<td>','').replace('</td>','').replace('</tr>','').split('кДж/100г')[0].replace(' ','').split('<')[0].replace('\\t', '')\n",
    "    kdg = string.split('кДж/100г')[1].replace('</th>','').replace('\\n','').replace('<tr>','').replace('<th>','').replace('<td>','').replace('</td>','').replace('</tr>','').replace(' ','').split('<')[0].replace('\\t', '')\n",
    "\n",
    "else:\n",
    "    fats = 0\n",
    "    proteins = 0\n",
    "    carbohydrates = 0\n",
    "    calories = 0\n",
    "    kdg = 0"
   ]
  },
  {
   "cell_type": "code",
   "execution_count": 344,
   "metadata": {
    "id": "9cuKdk2Nfjg0"
   },
   "outputs": [],
   "source": [
    "def remove_html_tags(text):\n",
    "    \"\"\"Remove html tags from a string\"\"\"\n",
    "    clean = re.compile('<.*?>|&ndash; ')\n",
    "    return re.sub(clean, '', text)\n",
    "\n",
    "def replase_to_bool(val):\n",
    "    if val == 'НЕТ':\n",
    "        ans = False\n",
    "    elif val == 'ДА':\n",
    "        ans = True\n",
    "    return ans\n",
    "\n",
    "main = str(prod_soup.find_all('table')[6])\n",
    "\n",
    "clean_text = remove_html_tags(main).replace('\\n','').replace('\\t','')\n",
    "clean_text = clean_text.split('  ')\n",
    "\n",
    "ans = []\n",
    "for i in clean_text:\n",
    "    if len(i) !=0:\n",
    "        ans.append(i)\n",
    "\n",
    "gmo = replase_to_bool(ans[1])\n",
    "organic = replase_to_bool(ans[3])\n",
    "vegetarian = replase_to_bool(ans[5])\n",
    "vegan = replase_to_bool(ans[7])"
   ]
  },
  {
   "cell_type": "code",
   "execution_count": 366,
   "metadata": {
    "id": "7LroiNqNtt2L"
   },
   "outputs": [],
   "source": [
    "description = str(prod_soup.find_all('table')[10].td).split()\n",
    "components = ' '.join(description).replace('<td> ', '').replace(' </td>', '')"
   ]
  },
  {
   "cell_type": "code",
   "execution_count": 375,
   "metadata": {
    "id": "ioqBf95Vl2k_"
   },
   "outputs": [],
   "source": [
    "dict_ = {\n",
    "    'barcode': qr_id,\n",
    "    'name': prod_name,\n",
    "\n",
    "    'proteins': float(proteins), \n",
    "    'fats': float(fats),\n",
    "    'carbohydrates': float(carbohydrates),\n",
    "    'calories': float(calories),\n",
    "\n",
    "    'mass': float(mass),\n",
    "\n",
    "    'package': package,\n",
    "\n",
    "    'is_gmo': gmo,\n",
    "    'is_organic': organic,\n",
    "\n",
    "    'is_vegetarian': vegetarian,\n",
    "    'is_vegan': vegan,\n",
    "\n",
    "    'components': components\n",
    "}"
   ]
  },
  {
   "cell_type": "code",
   "execution_count": 376,
   "metadata": {
    "colab": {
     "base_uri": "https://localhost:8080/"
    },
    "id": "eHfTkIitlgVY",
    "outputId": "50a09af3-22a6-4be1-c414-75188f25b01b"
   },
   "outputs": [
    {
     "data": {
      "text/plain": [
       "{'barcode': 4820001448603,\n",
       " 'calories': 48.0,\n",
       " 'carbohydrates': 11.5,\n",
       " 'components': 'Мультифруктовый сок концентрированный (соки ананаса, апельсина, мандарина, пюре банана, соки лимона и маракуйи) (33%), яблочный сок концентрированный (17%), сахарный сироп, регулятор кислотности лимонная кислота, витамины: провитамин А (β-каротин), Е, В1, В2, РР, В6, С, В5, В9, Н, натуральные ароматизаторы \"Тропик\"',\n",
       " 'fats': 0.0,\n",
       " 'is_gmo': False,\n",
       " 'is_organic': False,\n",
       " 'is_vegan': True,\n",
       " 'is_vegetarian': True,\n",
       " 'mass': 0.156,\n",
       " 'name': 'Нектар неосветленный Мультивитамин Sandora т/п 500мл.',\n",
       " 'package': 'КАРТОННАЯ',\n",
       " 'proteins': 0.0}"
      ]
     },
     "execution_count": 376,
     "metadata": {},
     "output_type": "execute_result"
    }
   ],
   "source": [
    "dict_ = {\n",
    "    'barcode': qr_id,\n",
    "    'name': prod_name,\n",
    "\n",
    "    'proteins': float(proteins), \n",
    "    'fats': float(fats),\n",
    "    'carbohydrates': float(carbohydrates),\n",
    "    'calories': float(calories),\n",
    "\n",
    "    'mass': float(mass),\n",
    "\n",
    "    'package': package,\n",
    "\n",
    "    'is_gmo': gmo,\n",
    "    'is_organic': organic,\n",
    "\n",
    "    'is_vegetarian': vegetarian,\n",
    "    'is_vegan': vegan,\n",
    "\n",
    "    'components': components\n",
    "}"
   ]
  }
 ],
 "metadata": {
  "colab": {
   "collapsed_sections": [],
   "name": "Scraping_prod_info .ipynb",
   "provenance": []
  },
  "kernelspec": {
   "display_name": "Python 3 (ipykernel)",
   "language": "python",
   "name": "python3"
  },
  "language_info": {
   "codemirror_mode": {
    "name": "ipython",
    "version": 3
   },
   "file_extension": ".py",
   "mimetype": "text/x-python",
   "name": "python",
   "nbconvert_exporter": "python",
   "pygments_lexer": "ipython3",
   "version": "3.8.7"
  }
 },
 "nbformat": 4,
 "nbformat_minor": 1
}
